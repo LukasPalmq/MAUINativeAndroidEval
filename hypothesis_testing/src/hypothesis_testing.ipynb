{
 "cells": [
  {
   "cell_type": "code",
   "execution_count": 107,
   "metadata": {},
   "outputs": [],
   "source": [
    "# data handling\n",
    "import pandas as pd\n",
    "\n",
    "# statistic packages\n",
    "from scipy import stats\n",
    "from statistics import mean, stdev\n",
    "from math import sqrt\n",
    "from cliffs_delta import cliffs_delta"
   ]
  },
  {
   "attachments": {},
   "cell_type": "markdown",
   "metadata": {},
   "source": [
    "### Preparations\n",
    "\n",
    "First, define some constants. This includes a significance level of $\\alpha = 0.05$, which defines at what p-value we reject hypothesis tests."
   ]
  },
  {
   "cell_type": "code",
   "execution_count": 108,
   "metadata": {},
   "outputs": [],
   "source": [
    "alpha = 0.05\n",
    "treatments = ['MAUI', 'native']\n",
    "\n",
    "task = \"file\"\n",
    "metric = \"CPU\"\n",
    "column = f'{task}_{metric}_high'"
   ]
  },
  {
   "attachments": {},
   "cell_type": "markdown",
   "metadata": {},
   "source": [
    "Next, load the data containing the observations."
   ]
  },
  {
   "cell_type": "code",
   "execution_count": 109,
   "metadata": {},
   "outputs": [],
   "source": [
    "data = {}\n",
    "for t in treatments:\n",
    "    data[t] = pd.read_excel(f'../data/observations/{t}.xlsx', sheet_name=\"output\")"
   ]
  },
  {
   "attachments": {},
   "cell_type": "markdown",
   "metadata": {},
   "source": [
    "### Hypothesis testing\n",
    "\n",
    "#### Test for Normality \n",
    "\n",
    "Now, perform the Shapiro-Wilk test to determine, whether *both* samples are normally distributed. If $p \\lt \\alpha$ the null-hypothesis of normal distribution is rejected, i.e., the Shapiro-Wilk test does not assume normal distribution of the data."
   ]
  },
  {
   "cell_type": "code",
   "execution_count": 110,
   "metadata": {},
   "outputs": [
    {
     "name": "stdout",
     "output_type": "stream",
     "text": [
      "The MAUI data is *not* normally distributed\n",
      "The native data is normally distributed\n"
     ]
    }
   ],
   "source": [
    "p_normality = []\n",
    "\n",
    "for t in treatments:\n",
    "    _, p = stats.shapiro(data[t][column])\n",
    "    print(f'The {t} data is {\"*not* \" if p<alpha else \"\"}normally distributed')\n",
    "\n",
    "    p_normality.append(p)"
   ]
  },
  {
   "attachments": {},
   "cell_type": "markdown",
   "metadata": {},
   "source": [
    "According to the result of the Shapiro-Wilk test, determine whether to use a parametric (unpaired T-test) or non-parametric (Mann-Whitney U test) hypothesis test."
   ]
  },
  {
   "cell_type": "code",
   "execution_count": 111,
   "metadata": {},
   "outputs": [],
   "source": [
    "parametric_data: bool = (p_normality[0] > alpha and p_normality[1] > alpha)"
   ]
  },
  {
   "attachments": {},
   "cell_type": "markdown",
   "metadata": {},
   "source": [
    "#### Null-hypothesis Test\n",
    "\n",
    "Select the two samples for easier access."
   ]
  },
  {
   "cell_type": "code",
   "execution_count": 112,
   "metadata": {},
   "outputs": [],
   "source": [
    "s0 = data[treatments[0]][column]\n",
    "s1 = data[treatments[1]][column]"
   ]
  },
  {
   "attachments": {},
   "cell_type": "markdown",
   "metadata": {},
   "source": [
    "Finally, perform the appropriate test and determine whether the two samples are significantly different."
   ]
  },
  {
   "cell_type": "code",
   "execution_count": 113,
   "metadata": {},
   "outputs": [
    {
     "name": "stdout",
     "output_type": "stream",
     "text": [
      "According to the hypothesis test (Mann-Whitney U test), there is no statistically significant difference between the CPU usage in the \"file\" task (p-value: 0.353).\n"
     ]
    }
   ],
   "source": [
    "p = 0\n",
    "\n",
    "if parametric_data:\n",
    "    _, p = stats.ttest_ind(s0, s1)\n",
    "else:\n",
    "    _, p = stats.mannwhitneyu(s0, s1)\n",
    "\n",
    "print(f'According to the hypothesis test ({\"Unpaired T-test\" if parametric_data else \"Mann-Whitney U test\"}), there is {\"a\" if p<alpha else \"no\"} statistically significant difference between the {metric} usage in the \\\"{task}\\\" task (p-value: {p:.4}).')"
   ]
  },
  {
   "attachments": {},
   "cell_type": "markdown",
   "metadata": {},
   "source": [
    "### Effect size\n",
    "\n",
    "Additionally, calculate the effect size of the difference. In case of parametric data, calculate *Cohen's d*, otherwise use *Cliff's delta*."
   ]
  },
  {
   "cell_type": "code",
   "execution_count": 114,
   "metadata": {},
   "outputs": [
    {
     "name": "stdout",
     "output_type": "stream",
     "text": [
      "The difference has an effect size of -0.17 (Cliffs delta).\n"
     ]
    }
   ],
   "source": [
    "delta = 0\n",
    "\n",
    "if parametric_data:\n",
    "    delta = (mean(s0) - mean(s1)) / (sqrt((stdev(s0) ** 2 + stdev(s1) ** 2) / 2))\n",
    "else:\n",
    "    delta, _ = cliffs_delta(s0, s1)\n",
    "\n",
    "print(f'The difference has an effect size of {delta:.2} ({\"Cohens d\" if parametric_data else \"Cliffs delta\"}).')"
   ]
  }
 ],
 "metadata": {
  "kernelspec": {
   "display_name": ".venv",
   "language": "python",
   "name": "python3"
  },
  "language_info": {
   "codemirror_mode": {
    "name": "ipython",
    "version": 3
   },
   "file_extension": ".py",
   "mimetype": "text/x-python",
   "name": "python",
   "nbconvert_exporter": "python",
   "pygments_lexer": "ipython3",
   "version": "3.10.0"
  },
  "orig_nbformat": 4
 },
 "nbformat": 4,
 "nbformat_minor": 2
}
